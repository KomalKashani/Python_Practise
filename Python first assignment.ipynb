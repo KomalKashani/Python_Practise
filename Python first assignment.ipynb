{
 "cells": [
  {
   "cell_type": "markdown",
   "id": "38943b46",
   "metadata": {},
   "source": [
    "1) WAP to accept two numbers from the user and display their sum"
   ]
  },
  {
   "cell_type": "code",
   "execution_count": 15,
   "id": "aa09f7dc",
   "metadata": {},
   "outputs": [
    {
     "name": "stdout",
     "output_type": "stream",
     "text": [
      "Enter first number: 12\n",
      "Enter second number: 3\n",
      "Sum=15\n"
     ]
    }
   ],
   "source": [
    "a=int(input(\"Enter first number: \"))\n",
    "b=int(input(\"Enter second number: \"))\n",
    "c=a+b\n",
    "print(\"Sum={}\".format(c))"
   ]
  },
  {
   "cell_type": "markdown",
   "id": "bbe2c662",
   "metadata": {},
   "source": [
    "2) WAP to accept radius of a circle from the user and calculate area and circumference"
   ]
  },
  {
   "cell_type": "code",
   "execution_count": 16,
   "id": "0a14808d",
   "metadata": {},
   "outputs": [
    {
     "name": "stdout",
     "output_type": "stream",
     "text": [
      "Enter the radius of a circle 3\n",
      "Area of circle is 28.259999999999998\n",
      "Circumference of circle is 18.84\n"
     ]
    }
   ],
   "source": [
    "radius=int(input(\"Enter the radius of a circle \"))\n",
    "area=3.14*radius*radius\n",
    "circumference=2*3.14*radius\n",
    "print(\"Area of circle is {}\".format(area))\n",
    "print(\"Circumference of circle is {}\".format(circumference))"
   ]
  },
  {
   "cell_type": "markdown",
   "id": "4ac2e741",
   "metadata": {},
   "source": [
    "3) WAP to accept roll number,grade and percentage as input from the user and display it back."
   ]
  },
  {
   "cell_type": "code",
   "execution_count": 17,
   "id": "18a0d722",
   "metadata": {},
   "outputs": [
    {
     "name": "stdout",
     "output_type": "stream",
     "text": [
      "Enter the roll no :23\n",
      "Enter the grade: A\n",
      "Enter the percentage: 93\n",
      "Roll no:23\n",
      "Grade:A\n",
      "Percentage:93\n"
     ]
    }
   ],
   "source": [
    "roll_no=input(\"Enter the roll no :\")\n",
    "grade=input(\"Enter the grade: \")\n",
    "percentage=input(\"Enter the percentage: \")\n",
    "print(f\"Roll no:{roll_no}\")\n",
    "print(f\"Grade:{grade}\")\n",
    "print(f\"Percentage:{percentage}\")"
   ]
  },
  {
   "cell_type": "markdown",
   "id": "8f47d071",
   "metadata": {},
   "source": [
    "4) Write a program that asks the user to enter his/her name and age. Print out a message , displaying the user’s name along with the year in which they will turn 100 years old."
   ]
  },
  {
   "cell_type": "code",
   "execution_count": 18,
   "id": "14bba245",
   "metadata": {},
   "outputs": [
    {
     "name": "stdout",
     "output_type": "stream",
     "text": [
      "Enter name: komal\n",
      "Enter age: 23\n",
      "komal\n",
      "77 years left to turn 100\n"
     ]
    }
   ],
   "source": [
    "name=input(\"Enter name: \")\n",
    "age=int(input(\"Enter age: \"))\n",
    "print(name)\n",
    "print(str(100-age)+' years left to turn 100')"
   ]
  },
  {
   "cell_type": "markdown",
   "id": "5b9bdb10",
   "metadata": {},
   "source": [
    "5. Write a program that asks the user to input 2 integers and adds them . Accept both the numbers in a single line only "
   ]
  },
  {
   "cell_type": "code",
   "execution_count": 19,
   "id": "f93c34a2",
   "metadata": {},
   "outputs": [
    {
     "name": "stdout",
     "output_type": "stream",
     "text": [
      "Enter 2 numbers: 12 4\n",
      "Sum=16\n"
     ]
    }
   ],
   "source": [
    "num=input(\"Enter 2 numbers: \")\n",
    "num=num.split(' ')\n",
    "sum_of_num=int(num[0])+int(num[1])\n",
    "print(f\"Sum={sum_of_num}\")"
   ]
  },
  {
   "cell_type": "markdown",
   "id": "0cea6307",
   "metadata": {},
   "source": [
    "6) Write a Python program which accepts the user's first and last name and print them in reverse order with a space between them."
   ]
  },
  {
   "cell_type": "code",
   "execution_count": 20,
   "id": "0415fd8a",
   "metadata": {},
   "outputs": [
    {
     "name": "stdout",
     "output_type": "stream",
     "text": [
      "Enter your first name: komal \n",
      "Enter your second name: kashani\n",
      "inahsak  lamok\n"
     ]
    }
   ],
   "source": [
    "first=input(\"Enter your first name: \")\n",
    "second=input(\"Enter your second name: \")\n",
    "name=first+\" \"+second\n",
    "print(name[::-1])"
   ]
  },
  {
   "cell_type": "markdown",
   "id": "8cf888ed",
   "metadata": {},
   "source": [
    "# Question on loops and conditionals"
   ]
  },
  {
   "cell_type": "markdown",
   "id": "177f4935",
   "metadata": {},
   "source": [
    "1)WAP to accept an integer from the user and check\n",
    "whether it is an even or odd "
   ]
  },
  {
   "cell_type": "code",
   "execution_count": 21,
   "id": "9281b1dd",
   "metadata": {},
   "outputs": [
    {
     "name": "stdout",
     "output_type": "stream",
     "text": [
      "Enter the number: 2\n",
      "Even number\n"
     ]
    }
   ],
   "source": [
    "number=int(input(\"Enter the number: \"))\n",
    "if (number%2==0):\n",
    "    print(\"Even number\")\n",
    "else:\n",
    "    print(\"Odd number\")"
   ]
  },
  {
   "cell_type": "markdown",
   "id": "56cdeefd",
   "metadata": {},
   "source": [
    "2)WAP to accept a character from the user and check\n",
    "whether it is a capital letter or small letter. Assume\n",
    "user will input only alphabets"
   ]
  },
  {
   "cell_type": "code",
   "execution_count": 22,
   "id": "19a81abe",
   "metadata": {},
   "outputs": [
    {
     "name": "stdout",
     "output_type": "stream",
     "text": [
      "Enter character A\n",
      "Capital letter \n"
     ]
    }
   ],
   "source": [
    "character=input(\"Enter character \")\n",
    "if ord(character)>=65 and ord(character)<=90:\n",
    "    print(\"Capital letter \")\n",
    "elif ord(character)>=97 and ord(character)<=122:\n",
    "    print(\"Small letter\")"
   ]
  },
  {
   "cell_type": "markdown",
   "id": "649399aa",
   "metadata": {},
   "source": [
    "3)WAP to accept a character from the user and check\n",
    "whether it is a capital letter or small letter or a digit\n",
    "or some special symbol"
   ]
  },
  {
   "cell_type": "code",
   "execution_count": 23,
   "id": "51b4c9cc",
   "metadata": {},
   "outputs": [
    {
     "name": "stdout",
     "output_type": "stream",
     "text": [
      "Enter character 5\n",
      "Digit\n"
     ]
    }
   ],
   "source": [
    "character=input(\"Enter character \")\n",
    "if ord(character)>=65 and ord(character)<=90:\n",
    "    print(\"Capital letter \")\n",
    "elif ord(character)>=97 and ord(character)<=122:\n",
    "    print(\"Small letter\")\n",
    "elif ord(character)>=48 and ord(character)<=57:\n",
    "    print(\"Digit\")\n",
    "else:\n",
    "    print(\"Special Symbol\")"
   ]
  },
  {
   "cell_type": "markdown",
   "id": "68dbb8a5",
   "metadata": {},
   "source": [
    "4)WAP to accept a year from the user and check\n",
    "whether it is a leap year or not.\n",
    "An year is a leap year if:\n",
    "It is exactly divisible by 4 and at the same time\n",
    "not\n",
    "divisible by 100\n",
    "OR\n",
    "It is divisible by 400\n",
    "For example:\n",
    "2017 is not a leap year\n",
    "2012 is a leap year\n",
    "1900 is a not leap year\n",
    "2000 is a leap year"
   ]
  },
  {
   "cell_type": "code",
   "execution_count": 24,
   "id": "d5646d98",
   "metadata": {},
   "outputs": [
    {
     "name": "stdout",
     "output_type": "stream",
     "text": [
      "Enter the year: 2012\n",
      "Leap year\n"
     ]
    }
   ],
   "source": [
    "year=int(input(\"Enter the year: \"))\n",
    "if(year%400==0) or (year%100!=0 and year%4==0):\n",
    "    print(\"Leap year\")\n",
    "else:\n",
    "    print(\"Not a leap year\")"
   ]
  },
  {
   "cell_type": "markdown",
   "id": "b43d02a9",
   "metadata": {},
   "source": [
    "5)You have to develop a number guessing game.\n",
    "Following are the steps needed:\n",
    "● At first , the program will generate a random integer\n",
    "secretly between 1 to 50.\n",
    "● Now it will ask the user to guess that number .\n",
    "● If the user guessed it correctly then the program\n",
    "prints “Congratulations! You guessed it right” .\n",
    "● But if the number guessed by the user is larger than\n",
    "the secret number then program should print\n",
    "“Number too large” and , if the number guessed by\n",
    "the user is smaller than the secret number then the\n",
    "program should print “Number too small” \n",
    "●This should continue until the user guesses the\n",
    "number correctly or quits .\n",
    "● If the user wants to quit in between he will have to\n",
    "type 0 or negative number"
   ]
  },
  {
   "cell_type": "code",
   "execution_count": 25,
   "id": "4e5cc629",
   "metadata": {},
   "outputs": [
    {
     "name": "stdout",
     "output_type": "stream",
     "text": [
      "Guess the number: 23\n",
      "Number too small\n",
      "Guess the number: 45\n",
      "Number too large\n",
      "Guess the number: 33\n",
      "Number too small\n",
      "Guess the number: 45\n",
      "Number too large\n",
      "Guess the number: 0\n"
     ]
    }
   ],
   "source": [
    "import random\n",
    "secret_number=random.randint(1,50)\n",
    "a=int(input(\"Guess the number: \"))\n",
    "while a>0:\n",
    "    if a==secret_number:\n",
    "        print(\"Congratulations!You guessed it right\")\n",
    "        break\n",
    "    elif a>secret_number:\n",
    "        print(\"Number too large\")\n",
    "    elif a<secret_number:\n",
    "        print(\"Number too small\")\n",
    "    a=int(input(\"Guess the number: \"))\n"
   ]
  },
  {
   "cell_type": "markdown",
   "id": "41fdf224",
   "metadata": {},
   "source": [
    "6)Write a program to continuously accept integers from the\n",
    "user until the user types 0 and as soon as 0 is entered\n",
    "display sum of all the nos entered before 0\n",
    "\n",
    "Note: Modify the previous code so that if the user inputs a\n",
    "negative integer , your program should ignore it ."
   ]
  },
  {
   "cell_type": "code",
   "execution_count": 26,
   "id": "73c0cf76",
   "metadata": {},
   "outputs": [
    {
     "name": "stdout",
     "output_type": "stream",
     "text": [
      "Enter number: 4\n",
      "Enter number: 5\n",
      "Enter number: 2\n",
      "Enter number: 0\n",
      "11\n"
     ]
    }
   ],
   "source": [
    "a=int(input(\"Enter number: \"))\n",
    "sum=0\n",
    "while a!=0:\n",
    "    if a>0:\n",
    "        sum+=a\n",
    "    a=int(input(\"Enter number: \"))    \n",
    "print(sum)"
   ]
  },
  {
   "cell_type": "markdown",
   "id": "a8c71e63",
   "metadata": {},
   "source": [
    "7)Write a program using a for loop to accept a string from the user\n",
    "and display it vertically but don’t display the vowels in it."
   ]
  },
  {
   "cell_type": "code",
   "execution_count": 27,
   "id": "8f3c247e",
   "metadata": {},
   "outputs": [
    {
     "name": "stdout",
     "output_type": "stream",
     "text": [
      "Enter string: KoaMALU\n",
      "K\n",
      "M\n",
      "L\n"
     ]
    }
   ],
   "source": [
    "a=input(\"Enter string: \")\n",
    "output=''\n",
    "for i in a:\n",
    "    if i in \"aeiou\" or i in \"AEIOU\":\n",
    "        continue\n",
    "    print(i)\n",
    "        "
   ]
  },
  {
   "cell_type": "markdown",
   "id": "84af5702",
   "metadata": {},
   "source": [
    "8)Write a program to accept an integer from the user and display the\n",
    "sum of all the numbers from 1 to that number."
   ]
  },
  {
   "cell_type": "code",
   "execution_count": 28,
   "id": "3ba88a5e",
   "metadata": {},
   "outputs": [
    {
     "name": "stdout",
     "output_type": "stream",
     "text": [
      "Enter the number: 5\n",
      "Sum=15\n"
     ]
    }
   ],
   "source": [
    "sum=0\n",
    "number=int(input(\"Enter the number: \"))\n",
    "for i in range(number+1):\n",
    "    sum=sum+i\n",
    "print(f\"Sum={sum}\")"
   ]
  },
  {
   "cell_type": "markdown",
   "id": "57173ced",
   "metadata": {},
   "source": [
    "9)Write a program to accept an integer from the user and calculate\n",
    "its factorial"
   ]
  },
  {
   "cell_type": "code",
   "execution_count": 29,
   "id": "367dfd40",
   "metadata": {},
   "outputs": [
    {
     "name": "stdout",
     "output_type": "stream",
     "text": [
      "Enter number 5\n",
      "Factorial of 5 is 120\n"
     ]
    }
   ],
   "source": [
    "a=int(input(\"Enter number \"))\n",
    "number=a\n",
    "fact=1\n",
    "while a!=0:\n",
    "    fact=fact*a\n",
    "    a=a-1\n",
    "    \n",
    "print(f\"Factorial of {number} is {fact}\")"
   ]
  },
  {
   "cell_type": "markdown",
   "id": "4a2d3b5b",
   "metadata": {},
   "source": [
    "# Pattern program"
   ]
  },
  {
   "cell_type": "markdown",
   "id": "d301d3d8",
   "metadata": {},
   "source": [
    "# 1."
   ]
  },
  {
   "cell_type": "code",
   "execution_count": 6,
   "id": "698a9089",
   "metadata": {},
   "outputs": [
    {
     "name": "stdout",
     "output_type": "stream",
     "text": [
      "***\n",
      "***\n",
      "***\n",
      "***\n"
     ]
    }
   ],
   "source": [
    "\n",
    "\n",
    "n=3\n",
    "for i in range(n+1):\n",
    "    for i in range(n):\n",
    "        print('*',end='')\n",
    "    print('')\n",
    "        "
   ]
  },
  {
   "cell_type": "markdown",
   "id": "84b43257",
   "metadata": {},
   "source": [
    "# 2."
   ]
  },
  {
   "cell_type": "code",
   "execution_count": 8,
   "id": "cba59a96",
   "metadata": {},
   "outputs": [
    {
     "name": "stdout",
     "output_type": "stream",
     "text": [
      "*\n",
      "**\n",
      "***\n",
      "****\n"
     ]
    }
   ],
   "source": [
    "n=4\n",
    "for i in range(1,n+1):\n",
    "    for j in range(i):\n",
    "        print(\"*\",end='')\n",
    "    print('')"
   ]
  },
  {
   "cell_type": "markdown",
   "id": "9ec3ab8a",
   "metadata": {},
   "source": [
    "# 3."
   ]
  },
  {
   "cell_type": "code",
   "execution_count": 10,
   "id": "34fd3cf2",
   "metadata": {},
   "outputs": [
    {
     "name": "stdout",
     "output_type": "stream",
     "text": [
      "****\n",
      "***\n",
      "**\n",
      "*\n"
     ]
    }
   ],
   "source": [
    "\n",
    "n=5\n",
    "for i in range(1,n):\n",
    "    for j in range(n-i):\n",
    "        print(\"*\",end='')\n",
    "    print('')"
   ]
  },
  {
   "cell_type": "markdown",
   "id": "010a845e",
   "metadata": {},
   "source": [
    "# 4.\n",
    "1  \n",
    "1 2 1  \n",
    "1 2 3 2 1  \n",
    "1 2 3 4 3 2 1  \n",
    "1 2 3 4 5 4 3 2 1\n"
   ]
  },
  {
   "cell_type": "code",
   "execution_count": 5,
   "id": "08287740",
   "metadata": {},
   "outputs": [
    {
     "name": "stdout",
     "output_type": "stream",
     "text": [
      "1 \n",
      "1 2 1 \n",
      "1 2 3 2 1 \n",
      "1 2 3 4 3 2 1 \n",
      "1 2 3 4 5 4 3 2 1 \n"
     ]
    }
   ],
   "source": [
    "n=5\n",
    "for i in range(1,n+1):\n",
    "    for j in range(1,i+1):\n",
    "        print(j,end=' ')\n",
    "    for j in range(i-1,0,-1):\n",
    "        print(j,end=' ')\n",
    "    print('')"
   ]
  },
  {
   "cell_type": "markdown",
   "id": "a2fa8362",
   "metadata": {},
   "source": [
    "# Write a program to accept an integer from the user and display all the numbers from 1 to that number. Repeat the process until the user enters 0. "
   ]
  },
  {
   "cell_type": "code",
   "execution_count": 7,
   "id": "041d5c65",
   "metadata": {},
   "outputs": [
    {
     "name": "stdout",
     "output_type": "stream",
     "text": [
      "Enter the number: 5\n",
      "1\n",
      "2\n",
      "3\n",
      "4\n",
      "5\n",
      "Enter the number: 8\n",
      "1\n",
      "2\n",
      "3\n",
      "4\n",
      "5\n",
      "6\n",
      "7\n",
      "8\n",
      "Enter the number: 7\n",
      "1\n",
      "2\n",
      "3\n",
      "4\n",
      "5\n",
      "6\n",
      "7\n",
      "Enter the number: 0\n"
     ]
    }
   ],
   "source": [
    "a=int(input(\"Enter the number: \"))\n",
    "while a!=0:\n",
    "    for i in range(1,a+1):\n",
    "        print(i)\n",
    "    a=int(input(\"Enter the number: \"))"
   ]
  },
  {
   "cell_type": "code",
   "execution_count": null,
   "id": "56e08792",
   "metadata": {},
   "outputs": [],
   "source": []
  }
 ],
 "metadata": {
  "kernelspec": {
   "display_name": "Python 3 (ipykernel)",
   "language": "python",
   "name": "python3"
  },
  "language_info": {
   "codemirror_mode": {
    "name": "ipython",
    "version": 3
   },
   "file_extension": ".py",
   "mimetype": "text/x-python",
   "name": "python",
   "nbconvert_exporter": "python",
   "pygments_lexer": "ipython3",
   "version": "3.11.5"
  }
 },
 "nbformat": 4,
 "nbformat_minor": 5
}
