{
 "cells": [
  {
   "cell_type": "markdown",
   "id": "d2ec9779",
   "metadata": {},
   "source": [
    "# 1. Write a  Python program to sum all the items in a list.\n"
   ]
  },
  {
   "cell_type": "code",
   "execution_count": 2,
   "id": "959a5512",
   "metadata": {},
   "outputs": [
    {
     "name": "stdout",
     "output_type": "stream",
     "text": [
      "Sum= 15\n"
     ]
    }
   ],
   "source": [
    "l=[1,2,3,4,5]\n",
    "sum=0\n",
    "for i in l:\n",
    "    sum=sum+i\n",
    "print(\"Sum=\",sum)"
   ]
  },
  {
   "cell_type": "markdown",
   "id": "78fd22a9",
   "metadata": {},
   "source": [
    "# 2. Write a Python program to get the largest number from a list.\n"
   ]
  },
  {
   "cell_type": "code",
   "execution_count": 5,
   "id": "49cab553",
   "metadata": {},
   "outputs": [
    {
     "name": "stdout",
     "output_type": "stream",
     "text": [
      "Max= 18\n"
     ]
    }
   ],
   "source": [
    "a=[6,4,10,18,2,8,9]\n",
    "max=a[0]\n",
    "for i in a:\n",
    "    if i>max:\n",
    "        max=i\n",
    "print(\"Max=\",max)\n",
    "    "
   ]
  },
  {
   "cell_type": "markdown",
   "id": "4bdcd6fa",
   "metadata": {},
   "source": [
    "# 3. Write a Python program to clone or copy item in a list.\n"
   ]
  },
  {
   "cell_type": "code",
   "execution_count": 16,
   "id": "96338ee1",
   "metadata": {},
   "outputs": [
    {
     "name": "stdout",
     "output_type": "stream",
     "text": [
      "original list= [5, 6, 7, 8, 9, 3]\n",
      "Clone list= [5, 6, 7, 8, 9, 3]\n"
     ]
    }
   ],
   "source": [
    "a=[5,6,7,8,9,3]\n",
    "b=a[:]\n",
    "print(\"original list=\",a)\n",
    "print(\"Clone list=\",b)"
   ]
  },
  {
   "cell_type": "markdown",
   "id": "2e8e32e5",
   "metadata": {},
   "source": [
    "# 4. Write a Python program to access the index of an element present in a list."
   ]
  },
  {
   "cell_type": "code",
   "execution_count": 15,
   "id": "d30e17c2",
   "metadata": {},
   "outputs": [
    {
     "name": "stdout",
     "output_type": "stream",
     "text": [
      "Index= 4\n"
     ]
    }
   ],
   "source": [
    "a=[4,6,8,2,1,9]\n",
    "index=a.index(1)\n",
    "print(\"Index=\",index)"
   ]
  },
  {
   "cell_type": "code",
   "execution_count": 14,
   "id": "1f40c030",
   "metadata": {},
   "outputs": [
    {
     "name": "stdout",
     "output_type": "stream",
     "text": [
      "Enter the number you want index for:9\n",
      "Index= 6\n"
     ]
    }
   ],
   "source": [
    "a=[6,4,5,3,2,8,9]\n",
    "number=int(input(\"Enter the number you want index for:\"))\n",
    "count=0\n",
    "index=None\n",
    "for i in a:\n",
    "    if i==number:\n",
    "        index=count\n",
    "    count+=1\n",
    "if not index:\n",
    "    print(f\"{number} is not in list\")\n",
    "else:\n",
    "    print(\"Index=\",index)"
   ]
  },
  {
   "cell_type": "code",
   "execution_count": null,
   "id": "c57a011a",
   "metadata": {},
   "outputs": [],
   "source": []
  }
 ],
 "metadata": {
  "kernelspec": {
   "display_name": "Python 3 (ipykernel)",
   "language": "python",
   "name": "python3"
  },
  "language_info": {
   "codemirror_mode": {
    "name": "ipython",
    "version": 3
   },
   "file_extension": ".py",
   "mimetype": "text/x-python",
   "name": "python",
   "nbconvert_exporter": "python",
   "pygments_lexer": "ipython3",
   "version": "3.11.5"
  }
 },
 "nbformat": 4,
 "nbformat_minor": 5
}
