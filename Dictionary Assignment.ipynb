{
 "cells": [
  {
   "cell_type": "markdown",
   "id": "2a7e8ba1",
   "metadata": {},
   "source": [
    "# Write a Python program to count the number of items in a dictionary value that is a list.\n",
    "\n",
    "new_dict =  {'Alex': ['subj1', 'subj2', 'subj3'], 'David': ['subj1', 'subj2']}"
   ]
  },
  {
   "cell_type": "code",
   "execution_count": 20,
   "id": "24857416",
   "metadata": {},
   "outputs": [
    {
     "name": "stdout",
     "output_type": "stream",
     "text": [
      "Alex has 3 subjects\n",
      "David has 2 subjects\n"
     ]
    }
   ],
   "source": [
    "new_dict =  {'Alex': ['subj1', 'subj2', 'subj3'], 'David': ['subj1', 'subj2']}\n",
    "for key in new_dict:\n",
    "    print(f\"{key} has {len(new_dict[key])} subjects\")"
   ]
  },
  {
   "cell_type": "markdown",
   "id": "791a04c4",
   "metadata": {},
   "source": [
    "# Write a  Python program to sort Counter by value.\n",
    "Sample data : {'Math':81, 'Physics':83, 'Chemistry':87}\n",
    "Expected data: [('Chemistry', 87), ('Physics', 83), ('Math', 81)]"
   ]
  },
  {
   "cell_type": "code",
   "execution_count": 57,
   "id": "fce1b15b",
   "metadata": {},
   "outputs": [
    {
     "name": "stdout",
     "output_type": "stream",
     "text": [
      "['Math', 'Physics', 'Chemistry']\n",
      "[('Chemistry', 87), ('Physics', 83), ('Math', 81)]\n"
     ]
    }
   ],
   "source": [
    "a = {'Math':81, 'Physics':83, 'Chemistry':87} \n",
    "new_a=a\n",
    "a=a.keys()\n",
    "list_of_keys=list(a)\n",
    "print(list_of_keys)\n",
    "reverse_the_list=list_of_keys[::-1]\n",
    "new_dict={}\n",
    "for i in reverse_the_list:\n",
    "    new_dict[i]=new_a[i]\n",
    "print(list(new_dict.items()))\n"
   ]
  },
  {
   "cell_type": "markdown",
   "id": "6487cd27",
   "metadata": {},
   "source": [
    "# Write a Python program to match key values in two dictionaries.\n",
    "Sample dictionary: {'key1': 1, 'key2': 3, 'key3': 2}, {'key1': 1, 'key2': 2}\n",
    "Expected output: key1: 1 is present in both x and y"
   ]
  },
  {
   "cell_type": "code",
   "execution_count": 64,
   "id": "173080a2",
   "metadata": {},
   "outputs": [
    {
     "name": "stdout",
     "output_type": "stream",
     "text": [
      "key1:1 is present in both a and b\n"
     ]
    }
   ],
   "source": [
    "a,b= {'key1': 1, 'key2': 3, 'key3': 2}, {'key1': 1, 'key2': 2}\n",
    "keys_a=list(a.keys())\n",
    "keys_b=list(b.keys())\n",
    "len_a=len(keys_a)    \n",
    "len_b=len(keys_b)\n",
    "store=[]\n",
    "if len_a>len_b:\n",
    "    store=keys_a\n",
    "else:\n",
    "    store=keys_b\n",
    "for i in store:\n",
    "    if i in keys_b:\n",
    "        if a[i] == b[i]:\n",
    "            print(f\"{i}:{a[i]} is present in both a and b\")"
   ]
  },
  {
   "cell_type": "markdown",
   "id": "095d1f0f",
   "metadata": {},
   "source": [
    "# Write a  Python program to drop empty items from a given dictionary.\n",
    "Original Dictionary:\n",
    "{'c1': 'Red', 'c2': 'Green', 'c3': None}\n",
    "New Dictionary after dropping empty items:\n",
    "{'c1': 'Red', 'c2': 'Green'}"
   ]
  },
  {
   "cell_type": "code",
   "execution_count": 74,
   "id": "5ff03308",
   "metadata": {},
   "outputs": [
    {
     "name": "stdout",
     "output_type": "stream",
     "text": [
      "{'c1': 'Red', 'c2': 'Green'}\n"
     ]
    }
   ],
   "source": [
    "a = {'c1': 'Red', 'c2': 'Green', 'c3': None}\n",
    "new={}\n",
    "for i in a:\n",
    "    if a[i]!=None:\n",
    "        new[i]=a[i]\n",
    "        \n",
    "print(new)"
   ]
  },
  {
   "cell_type": "code",
   "execution_count": null,
   "id": "8003f400",
   "metadata": {},
   "outputs": [],
   "source": []
  }
 ],
 "metadata": {
  "kernelspec": {
   "display_name": "Python 3 (ipykernel)",
   "language": "python",
   "name": "python3"
  },
  "language_info": {
   "codemirror_mode": {
    "name": "ipython",
    "version": 3
   },
   "file_extension": ".py",
   "mimetype": "text/x-python",
   "name": "python",
   "nbconvert_exporter": "python",
   "pygments_lexer": "ipython3",
   "version": "3.11.5"
  }
 },
 "nbformat": 4,
 "nbformat_minor": 5
}
