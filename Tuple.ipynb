{
 "cells": [
  {
   "cell_type": "markdown",
   "id": "fc7195d7",
   "metadata": {},
   "source": [
    "# TUPLE"
   ]
  },
  {
   "cell_type": "markdown",
   "id": "9d63d19b",
   "metadata": {},
   "source": [
    "# Tuple methods"
   ]
  },
  {
   "cell_type": "markdown",
   "id": "028a4aab",
   "metadata": {},
   "source": [
    "1)count()\tReturns the number of times a specified value occurs in a tuple \n",
    "\n",
    "2)index()\tSearches the tuple for a specified value and returns the position of where it was found"
   ]
  },
  {
   "cell_type": "code",
   "execution_count": 2,
   "id": "a1299375",
   "metadata": {},
   "outputs": [
    {
     "name": "stdout",
     "output_type": "stream",
     "text": [
      "1\n"
     ]
    }
   ],
   "source": [
    "tup=(1,2,3,4)\n",
    "count=tup.count(2)\n",
    "print(count)"
   ]
  },
  {
   "cell_type": "code",
   "execution_count": 4,
   "id": "9fb1bb99",
   "metadata": {},
   "outputs": [
    {
     "name": "stdout",
     "output_type": "stream",
     "text": [
      "2\n"
     ]
    }
   ],
   "source": [
    "tup=(1,2,3,4)\n",
    "index=tup.index(3)\n",
    "print(index)"
   ]
  },
  {
   "cell_type": "markdown",
   "id": "2ceecb2c",
   "metadata": {},
   "source": [
    "# Apply all methods of list in tuple"
   ]
  },
  {
   "cell_type": "markdown",
   "id": "aff4509b",
   "metadata": {},
   "source": [
    "### append()->Adds an element at the end of the list\n"
   ]
  },
  {
   "cell_type": "code",
   "execution_count": 6,
   "id": "595f64ca",
   "metadata": {},
   "outputs": [
    {
     "name": "stdout",
     "output_type": "stream",
     "text": [
      "(1, 2, 3, 4, 5, [5, 6])\n"
     ]
    }
   ],
   "source": [
    "tup=(1,2,3,4,5)\n",
    "tup_to_list=list(tup)\n",
    "tup_to_list.append([5,6])\n",
    "tup=tuple(tup_to_list)\n",
    "print(tup)"
   ]
  },
  {
   "cell_type": "markdown",
   "id": "97a48408",
   "metadata": {},
   "source": [
    "### clear()->Removes all the elements from the list\n"
   ]
  },
  {
   "cell_type": "code",
   "execution_count": 8,
   "id": "b42a0fc4",
   "metadata": {},
   "outputs": [
    {
     "name": "stdout",
     "output_type": "stream",
     "text": [
      "()\n"
     ]
    }
   ],
   "source": [
    "tup=(1,2,3,4,5)\n",
    "tup_to_list=list(tup)\n",
    "tup_to_list.clear()\n",
    "tup=tuple(tup_to_list)\n",
    "print(tup)"
   ]
  },
  {
   "cell_type": "markdown",
   "id": "0d394ab2",
   "metadata": {},
   "source": [
    "### copy()->Returns a copy of the list\n"
   ]
  },
  {
   "cell_type": "code",
   "execution_count": 10,
   "id": "bec1ff2f",
   "metadata": {},
   "outputs": [
    {
     "name": "stdout",
     "output_type": "stream",
     "text": [
      "(1, 2, 3, 4, 5)\n"
     ]
    }
   ],
   "source": [
    "tup=(1,2,3,4,5)\n",
    "tup_to_list=list(tup)\n",
    "tup_to_list.copy()\n",
    "tup=tuple(tup_to_list)\n",
    "print(tup)\n"
   ]
  },
  {
   "cell_type": "markdown",
   "id": "460d95d9",
   "metadata": {},
   "source": [
    "\n",
    "### extend()->Add the elements of a list (or any iterable), to the end of the current list\n",
    "\n"
   ]
  },
  {
   "cell_type": "code",
   "execution_count": 12,
   "id": "c8ad3f23",
   "metadata": {},
   "outputs": [
    {
     "name": "stdout",
     "output_type": "stream",
     "text": [
      "(1, 2, 3, 4, 5, 6, 7, 8)\n"
     ]
    }
   ],
   "source": [
    "tup=(1,2,3,4,5)\n",
    "tup_to_list=list(tup)\n",
    "tup_to_list.extend([6,7,8])\n",
    "tup=tuple(tup_to_list)\n",
    "print(tup)\n"
   ]
  },
  {
   "cell_type": "markdown",
   "id": "8d6ea3de",
   "metadata": {},
   "source": [
    "### insert()->Adds an element at the specified position\n"
   ]
  },
  {
   "cell_type": "code",
   "execution_count": 13,
   "id": "2a6099af",
   "metadata": {},
   "outputs": [
    {
     "name": "stdout",
     "output_type": "stream",
     "text": [
      "(9, 1, 2, 3, 4, 5)\n"
     ]
    }
   ],
   "source": [
    "tup=(1,2,3,4,5)\n",
    "tup_to_list=list(tup)\n",
    "tup_to_list.insert(0,9)\n",
    "tup=tuple(tup_to_list)\n",
    "print(tup)\n"
   ]
  },
  {
   "cell_type": "markdown",
   "id": "33705ece",
   "metadata": {},
   "source": [
    "### pop()->Removes the element at the specified position"
   ]
  },
  {
   "cell_type": "code",
   "execution_count": 14,
   "id": "17c931a8",
   "metadata": {},
   "outputs": [
    {
     "name": "stdout",
     "output_type": "stream",
     "text": [
      "(1, 2, 3, 4)\n"
     ]
    }
   ],
   "source": [
    "tup=(1,2,3,4,5)\n",
    "tup_to_list=list(tup)\n",
    "tup_to_list.pop()\n",
    "tup=tuple(tup_to_list)\n",
    "print(tup)\n"
   ]
  },
  {
   "cell_type": "code",
   "execution_count": 15,
   "id": "3e95ac07",
   "metadata": {},
   "outputs": [
    {
     "name": "stdout",
     "output_type": "stream",
     "text": [
      "(1, 2, 4, 5)\n"
     ]
    }
   ],
   "source": [
    "tup=(1,2,3,4,5)\n",
    "tup_to_list=list(tup)\n",
    "tup_to_list.pop(2)\n",
    "tup=tuple(tup_to_list)\n",
    "print(tup)\n"
   ]
  },
  {
   "cell_type": "markdown",
   "id": "0f3f0800",
   "metadata": {},
   "source": [
    "### remove()->Removes the first item with the specified value\n",
    "\n",
    "\n"
   ]
  },
  {
   "cell_type": "code",
   "execution_count": 16,
   "id": "20e1c222",
   "metadata": {},
   "outputs": [
    {
     "name": "stdout",
     "output_type": "stream",
     "text": [
      "(1, 2, 3, 5)\n"
     ]
    }
   ],
   "source": [
    "tup=(1,2,3,4,5)\n",
    "tup_to_list=list(tup)\n",
    "tup_to_list.remove(4)\n",
    "tup=tuple(tup_to_list)\n",
    "print(tup)"
   ]
  },
  {
   "cell_type": "markdown",
   "id": "ab756d11",
   "metadata": {},
   "source": [
    "### reverse()->Reverses the order of the list"
   ]
  },
  {
   "cell_type": "code",
   "execution_count": 17,
   "id": "0a3c1290",
   "metadata": {},
   "outputs": [
    {
     "name": "stdout",
     "output_type": "stream",
     "text": [
      "(5, 4, 3, 2, 1)\n"
     ]
    }
   ],
   "source": [
    "tup=(1,2,3,4,5)\n",
    "tup_to_list=list(tup)\n",
    "tup_to_list.reverse()\n",
    "tup=tuple(tup_to_list)\n",
    "print(tup)"
   ]
  },
  {
   "cell_type": "markdown",
   "id": "d67b3877",
   "metadata": {},
   "source": [
    "### sort()->Sorts the list"
   ]
  },
  {
   "cell_type": "code",
   "execution_count": 18,
   "id": "9cc85bbf",
   "metadata": {},
   "outputs": [
    {
     "name": "stdout",
     "output_type": "stream",
     "text": [
      "(1, 2, 2, 3, 5, 8, 9)\n"
     ]
    }
   ],
   "source": [
    "tup=(8,9,2,1,5,2,3)\n",
    "tup_to_list=list(tup)\n",
    "tup_to_list.sort()\n",
    "tup=tuple(tup_to_list)\n",
    "print(tup)"
   ]
  },
  {
   "cell_type": "markdown",
   "id": "c73cf799",
   "metadata": {},
   "source": [
    "# Tuple Comprehension\n",
    "\n",
    "\n",
    "\n"
   ]
  },
  {
   "cell_type": "markdown",
   "id": "9fffdd18",
   "metadata": {},
   "source": [
    "### simple tuple comprehension\n"
   ]
  },
  {
   "cell_type": "code",
   "execution_count": 21,
   "id": "777c5cc7",
   "metadata": {},
   "outputs": [
    {
     "name": "stdout",
     "output_type": "stream",
     "text": [
      "(1, 2, 3, 4, 5, 6, 7)\n"
     ]
    }
   ],
   "source": [
    "l=(1,2,3,4,5,6,7)\n",
    "b=tuple(x for x in l)\n",
    "print(b)\n"
   ]
  },
  {
   "cell_type": "markdown",
   "id": "24222f09",
   "metadata": {},
   "source": [
    "### if in tuple comprehension"
   ]
  },
  {
   "cell_type": "code",
   "execution_count": 25,
   "id": "0022bc8f",
   "metadata": {},
   "outputs": [
    {
     "name": "stdout",
     "output_type": "stream",
     "text": [
      "(3, 4, 5, 6, 7)\n"
     ]
    }
   ],
   "source": [
    "l=(1,2,3,4,5,6,7)\n",
    "b=tuple(x for x in l if x>2)\n",
    "print(b)\n"
   ]
  },
  {
   "cell_type": "markdown",
   "id": "32194bcb",
   "metadata": {},
   "source": [
    "### if else in tuple comprehension"
   ]
  },
  {
   "cell_type": "code",
   "execution_count": 27,
   "id": "7a2a7186",
   "metadata": {},
   "outputs": [
    {
     "name": "stdout",
     "output_type": "stream",
     "text": [
      "(None, None, None, 4, 5, 6, 7)\n"
     ]
    }
   ],
   "source": [
    "\n",
    "l=(1,2,3,4,5,6,7)\n",
    "b=tuple(x if x>3 else None for x in l)\n",
    "print(b)\n"
   ]
  },
  {
   "cell_type": "markdown",
   "id": "98077342",
   "metadata": {},
   "source": [
    "### elif in tuple comprehension"
   ]
  },
  {
   "cell_type": "code",
   "execution_count": 28,
   "id": "754f7cef",
   "metadata": {},
   "outputs": [
    {
     "name": "stdout",
     "output_type": "stream",
     "text": [
      "('negative', 'positive', 'zero', 'negative', 'positive', 'negative')\n"
     ]
    }
   ],
   "source": [
    "\n",
    "#syntax-> new_list = [expression1 if condition1 else expression2 if condition2 else expression3 for item in iterable]\n",
    "#This syntax translates to: \"Apply expression1 if condition1 is true, else apply expression2 if condition2 is true, else apply expression3.\"\n",
    "# Example: Categorizing numbers into 'positive', 'negative', or 'zero'\n",
    "numbers = (-2, 5, 0, -7, 3, -1)\n",
    "categories = tuple('positive' if num > 0 else 'negative' if num < 0 else 'zero' for num in numbers)\n",
    "print(categories)  # Output: ['negative', 'positive', 'zero', 'negative', 'positive', 'negative']\n",
    "\n"
   ]
  },
  {
   "cell_type": "markdown",
   "id": "bec15e0c",
   "metadata": {},
   "source": [
    "### nested for loop in list comprehension"
   ]
  },
  {
   "cell_type": "code",
   "execution_count": 29,
   "id": "b1ebe6ee",
   "metadata": {},
   "outputs": [
    {
     "name": "stdout",
     "output_type": "stream",
     "text": [
      "((1, 4), (1, 5), (1, 6), (2, 4), (2, 5), (2, 6), (3, 4), (3, 5), (3, 6))\n"
     ]
    }
   ],
   "source": [
    "\n",
    "# Example: Creating a list of tuples containing pairs of numbers from two lists\n",
    "list1 = (1, 2, 3)\n",
    "list2 = (4, 5, 6)\n",
    "pairs = tuple((x, y) for x in list1 for y in list2)\n",
    "print(pairs)  "
   ]
  },
  {
   "cell_type": "code",
   "execution_count": null,
   "id": "9331fd19",
   "metadata": {},
   "outputs": [],
   "source": []
  },
  {
   "cell_type": "code",
   "execution_count": null,
   "id": "65e213c6",
   "metadata": {},
   "outputs": [],
   "source": []
  }
 ],
 "metadata": {
  "kernelspec": {
   "display_name": "Python 3 (ipykernel)",
   "language": "python",
   "name": "python3"
  },
  "language_info": {
   "codemirror_mode": {
    "name": "ipython",
    "version": 3
   },
   "file_extension": ".py",
   "mimetype": "text/x-python",
   "name": "python",
   "nbconvert_exporter": "python",
   "pygments_lexer": "ipython3",
   "version": "3.11.5"
  }
 },
 "nbformat": 4,
 "nbformat_minor": 5
}
