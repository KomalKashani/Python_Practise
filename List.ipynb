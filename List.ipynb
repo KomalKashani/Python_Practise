{
 "cells": [
  {
   "cell_type": "markdown",
   "id": "9cb74948",
   "metadata": {},
   "source": [
    "# List Methods\n"
   ]
  },
  {
   "cell_type": "markdown",
   "id": "5847364b",
   "metadata": {},
   "source": [
    "### append()->Adds an element at the end of the list"
   ]
  },
  {
   "cell_type": "code",
   "execution_count": 7,
   "id": "017350e4",
   "metadata": {},
   "outputs": [
    {
     "name": "stdout",
     "output_type": "stream",
     "text": [
      "[1, 2, 3, 4, 5, [5, 6]]\n"
     ]
    }
   ],
   "source": [
    "l=[1,2,3,4,5]\n",
    "l.append([5,6])\n",
    "print(l)"
   ]
  },
  {
   "cell_type": "markdown",
   "id": "17901367",
   "metadata": {},
   "source": [
    "### clear()->Removes all the elements from the list"
   ]
  },
  {
   "cell_type": "code",
   "execution_count": 2,
   "id": "56390e48",
   "metadata": {},
   "outputs": [
    {
     "name": "stdout",
     "output_type": "stream",
     "text": [
      "[]\n"
     ]
    }
   ],
   "source": [
    "l=[1,2,3,4,5]\n",
    "l.clear()\n",
    "print(l)"
   ]
  },
  {
   "cell_type": "markdown",
   "id": "7668b12c",
   "metadata": {},
   "source": [
    "### copy()->Returns a copy of the list"
   ]
  },
  {
   "cell_type": "code",
   "execution_count": 4,
   "id": "4bf0fc88",
   "metadata": {},
   "outputs": [
    {
     "name": "stdout",
     "output_type": "stream",
     "text": [
      "[9, 2, 3, 4, 5]\n",
      "[1, 2, 3, 4, 5]\n"
     ]
    }
   ],
   "source": [
    "l=[1,2,3,4,5]\n",
    "b=l.copy()\n",
    "b[0]=9\n",
    "print(b)\n",
    "print(l)"
   ]
  },
  {
   "cell_type": "markdown",
   "id": "23d4b9c2",
   "metadata": {},
   "source": [
    "### count()->Returns the number of elements with the specified value"
   ]
  },
  {
   "cell_type": "code",
   "execution_count": 5,
   "id": "0a78b42e",
   "metadata": {},
   "outputs": [
    {
     "name": "stdout",
     "output_type": "stream",
     "text": [
      "1\n"
     ]
    }
   ],
   "source": [
    "l=[1,2,3,4,5]\n",
    "count=l.count(3)\n",
    "print(count)"
   ]
  },
  {
   "cell_type": "markdown",
   "id": "f4f831d5",
   "metadata": {},
   "source": [
    "### extend()->Add the elements of a list (or any iterable), to the end of the current list"
   ]
  },
  {
   "cell_type": "code",
   "execution_count": 8,
   "id": "ac20c72b",
   "metadata": {},
   "outputs": [
    {
     "name": "stdout",
     "output_type": "stream",
     "text": [
      "[1, 2, 3, 4, 5, 6, 7, 8]\n"
     ]
    }
   ],
   "source": [
    "l=[1,2,3,4,5]\n",
    "l.extend([6,7,8])\n",
    "print(l)"
   ]
  },
  {
   "cell_type": "markdown",
   "id": "03c1183f",
   "metadata": {},
   "source": [
    "### index()->Returns the index of the first element with the specified value"
   ]
  },
  {
   "cell_type": "code",
   "execution_count": 9,
   "id": "1030cf2e",
   "metadata": {},
   "outputs": [
    {
     "name": "stdout",
     "output_type": "stream",
     "text": [
      "2\n"
     ]
    }
   ],
   "source": [
    "l=[1,2,3,4,5]\n",
    "index=l.index(3)\n",
    "print(index)"
   ]
  },
  {
   "cell_type": "markdown",
   "id": "a74c1a93",
   "metadata": {},
   "source": [
    "### insert()->Adds an element at the specified position"
   ]
  },
  {
   "cell_type": "code",
   "execution_count": 12,
   "id": "e31ff541",
   "metadata": {},
   "outputs": [
    {
     "name": "stdout",
     "output_type": "stream",
     "text": [
      "[9, 1, 2, 3, 4, 5]\n"
     ]
    }
   ],
   "source": [
    "l=[1,2,3,4,5]\n",
    "l.insert(0,9)\n",
    "print(l)"
   ]
  },
  {
   "cell_type": "markdown",
   "id": "51ce3506",
   "metadata": {},
   "source": [
    "### pop()->Removes the element at the specified position"
   ]
  },
  {
   "cell_type": "code",
   "execution_count": 15,
   "id": "7a462d64",
   "metadata": {},
   "outputs": [
    {
     "name": "stdout",
     "output_type": "stream",
     "text": [
      "[1, 2, 3, 4]\n"
     ]
    }
   ],
   "source": [
    "l=[1,2,3,4,5]\n",
    "l.pop()\n",
    "print(l)"
   ]
  },
  {
   "cell_type": "code",
   "execution_count": 16,
   "id": "df38b38c",
   "metadata": {},
   "outputs": [
    {
     "name": "stdout",
     "output_type": "stream",
     "text": [
      "[1, 2, 4, 5]\n"
     ]
    }
   ],
   "source": [
    "l=[1,2,3,4,5]\n",
    "l.pop(2)\n",
    "print(l)"
   ]
  },
  {
   "cell_type": "markdown",
   "id": "3b4e903d",
   "metadata": {},
   "source": [
    "### remove()->Removes the first item with the specified value"
   ]
  },
  {
   "cell_type": "code",
   "execution_count": 20,
   "id": "433fd77d",
   "metadata": {},
   "outputs": [
    {
     "name": "stdout",
     "output_type": "stream",
     "text": [
      "[1, 2, 4, 5]\n"
     ]
    }
   ],
   "source": [
    "l=[1,2,3,4,5]\n",
    "l.remove(3)\n",
    "print(l)"
   ]
  },
  {
   "cell_type": "markdown",
   "id": "bc93eeef",
   "metadata": {},
   "source": [
    "### reverse()->Reverses the order of the list"
   ]
  },
  {
   "cell_type": "code",
   "execution_count": 21,
   "id": "b7eb6492",
   "metadata": {},
   "outputs": [
    {
     "name": "stdout",
     "output_type": "stream",
     "text": [
      "[5, 4, 3, 2, 1]\n"
     ]
    }
   ],
   "source": [
    "l=[1,2,3,4,5]\n",
    "l.reverse()\n",
    "print(l)"
   ]
  },
  {
   "cell_type": "markdown",
   "id": "7178a2b0",
   "metadata": {},
   "source": [
    "### sort()->Sorts the list"
   ]
  },
  {
   "cell_type": "code",
   "execution_count": 22,
   "id": "fdd6df21",
   "metadata": {},
   "outputs": [
    {
     "name": "stdout",
     "output_type": "stream",
     "text": [
      "[1, 1, 3, 5, 6, 7, 8]\n"
     ]
    }
   ],
   "source": [
    "l=[8,5,6,7,1,3,1]\n",
    "l.sort()\n",
    "print(l)"
   ]
  },
  {
   "cell_type": "markdown",
   "id": "b631406a",
   "metadata": {},
   "source": [
    "# List Comprehension"
   ]
  },
  {
   "cell_type": "markdown",
   "id": "5255dc97",
   "metadata": {},
   "source": [
    "### simple list comprehension\n"
   ]
  },
  {
   "cell_type": "code",
   "execution_count": 27,
   "id": "a57c02e8",
   "metadata": {},
   "outputs": [
    {
     "name": "stdout",
     "output_type": "stream",
     "text": [
      "[1, 2, 3, 4, 5, 6, 7]\n"
     ]
    }
   ],
   "source": [
    "l=[1,2,3,4,5,6,7]\n",
    "b=[x for x in l]\n",
    "print(b)"
   ]
  },
  {
   "cell_type": "markdown",
   "id": "b677dbe4",
   "metadata": {},
   "source": [
    "### if in list comprehension"
   ]
  },
  {
   "cell_type": "code",
   "execution_count": 28,
   "id": "3555d1ce",
   "metadata": {},
   "outputs": [
    {
     "name": "stdout",
     "output_type": "stream",
     "text": [
      "[3, 4, 5, 6, 7]\n"
     ]
    }
   ],
   "source": [
    "l=[1,2,3,4,5,6,7]\n",
    "b=[x for x in l if x>2]\n",
    "print(b)"
   ]
  },
  {
   "cell_type": "markdown",
   "id": "f4bb24e6",
   "metadata": {},
   "source": [
    "### if else in list comprehension"
   ]
  },
  {
   "cell_type": "code",
   "execution_count": 31,
   "id": "7ab2206f",
   "metadata": {},
   "outputs": [
    {
     "name": "stdout",
     "output_type": "stream",
     "text": [
      "[None, None, None, 4, 5, 6, 7]\n"
     ]
    }
   ],
   "source": [
    "l=[1,2,3,4,5,6,7]\n",
    "b=[x if x>3 else None for x in l]\n",
    "print(b)"
   ]
  },
  {
   "cell_type": "markdown",
   "id": "9b74d721",
   "metadata": {},
   "source": [
    "### elif in list comprehension\n"
   ]
  },
  {
   "cell_type": "code",
   "execution_count": 35,
   "id": "58747974",
   "metadata": {},
   "outputs": [
    {
     "name": "stdout",
     "output_type": "stream",
     "text": [
      "['negative', 'positive', 'zero', 'negative', 'positive', 'negative']\n"
     ]
    }
   ],
   "source": [
    "#syntax-> new_list = [expression1 if condition1 else expression2 if condition2 else expression3 for item in iterable]\n",
    "#This syntax translates to: \"Apply expression1 if condition1 is true, else apply expression2 if condition2 is true, else apply expression3.\"\n",
    "# Example: Categorizing numbers into 'positive', 'negative', or 'zero'\n",
    "numbers = [-2, 5, 0, -7, 3, -1]\n",
    "categories = ['positive' if num > 0 else 'negative' if num < 0 else 'zero' for num in numbers]\n",
    "print(categories)  # Output: ['negative', 'positive', 'zero', 'negative', 'positive', 'negative']\n",
    "\n"
   ]
  },
  {
   "cell_type": "markdown",
   "id": "c0b9a6d9",
   "metadata": {},
   "source": [
    "### nested for loop in list comprehension"
   ]
  },
  {
   "cell_type": "code",
   "execution_count": 36,
   "id": "f9e7e6f9",
   "metadata": {},
   "outputs": [
    {
     "name": "stdout",
     "output_type": "stream",
     "text": [
      "[(1, 4), (1, 5), (1, 6), (2, 4), (2, 5), (2, 6), (3, 4), (3, 5), (3, 6)]\n"
     ]
    }
   ],
   "source": [
    "# Example: Creating a list of tuples containing pairs of numbers from two lists\n",
    "list1 = [1, 2, 3]\n",
    "list2 = [4, 5, 6]\n",
    "pairs = [(x, y) for x in list1 for y in list2]\n",
    "print(pairs)  # Output: [(1, 4), (1, 5), (1, 6), (2, 4), (2, 5), (2, 6), (3, 4), (3, 5), (3, 6)]"
   ]
  },
  {
   "cell_type": "markdown",
   "id": "2f8abaa7",
   "metadata": {},
   "source": [
    "# LIST INTERVIEW QUESTIONS"
   ]
  },
  {
   "cell_type": "markdown",
   "id": "eb4d1878",
   "metadata": {},
   "source": [
    "### 1)What is a list in Python? How is it different from other data structures?\n",
    "\n",
    "### 2)Explain the difference between mutable and immutable objects in Python. Are lists mutable or immutable?\n",
    "\n",
    "### 3)How do you access elements in a list in Python? Can you explain indexing and slicing?\n",
    "\n",
    "### 4)What is the purpose of list comprehensions in Python? How do they differ from traditional for loops?\n",
    "\n",
    "->The purpose of list comprehensions in Python is to provide a concise and readable way to create lists by applying an expression to each item in an iterable, optionally with a filtering condition. They differ from traditional for loops in that they are more compact, often requiring fewer lines of code, and are typically faster and more Pythonic. List comprehensions are preferred when the logic for creating a list can be expressed succinctly and when performance is a consideration.\n",
    "\n",
    "### 5)Can you provide an example of when you would use a list comprehension?\n",
    "\n",
    "### 6)What is the syntax for a basic list comprehension in Python?\n",
    "\n",
    "### 7)How do you filter elements in a list comprehension?\n",
    "\n",
    "### 8)Can you explain the concept of nested list comprehensions? Provide an example.\n",
    "\n",
    "### 9)What is the difference between a generator expression and a list comprehension? When would you use one over the other?\n",
    "\n",
    "->The main difference between a generator expression and a list comprehension is that a list comprehension returns a list containing all the elements generated, while a generator expression returns a generator object that produces elements lazily, one at a time, as they are needed.\n",
    "You would typically use a list comprehension when you need to immediately iterate over the entire sequence of elements, or when you need to manipulate the sequence multiple times. On the other hand, you would use a generator expression when you're dealing with a large sequence or when you only need to iterate over the elements once. This is because generators are memory-efficient and can be more performant when dealing with large datasets.\n",
    "\n",
    "### 10)How can you convert a list into a set or a tuple?\n",
    "\n",
    "### 11)Explain the concept of list unpacking in Python.\n",
    "\n",
    "->List unpacking in Python refers to the process of extracting individual elements from a list and assigning them to separate variables in a single statement. It allows you to efficiently assign values from a list to multiple variables without needing to access each element individually.\n",
    "e.g->\n",
    "#### List containing three elements\n",
    "my_list = [1, 2, 3]\n",
    "\n",
    "#### Unpacking the list into separate variables\n",
    "a, b, c = my_list\n",
    "\n",
    "print(a)  # Output: 1\n",
    "print(b)  # Output: 2\n",
    "print(c)  # Output: 3\n",
    "\n",
    "In this example, the elements of my_list are unpacked into the variables a, b, and c, respectively. The number of variables must match the number of elements in the list; otherwise, Python will raise a ValueError.\n",
    "List unpacking is not limited to assigning elements to variables; it can also be used to unpack elements within function calls or within other iterable structures like tuples or dictionaries. It's a convenient and powerful feature in Python for working with sequences of data.\n",
    "\n",
    "\n",
    "### 12)What is the difference between the append() and extend() methods in Python lists?\n",
    "\n",
    "### 13)How would you check if a given element is present in a list?\n",
    "\n",
    "### 14)What are the map() and filter() functions in Python, and how are they related to list comprehensions?\n",
    "\n",
    "->The map() and filter() functions in Python are higher-order functions that operate on iterables (such as lists, tuples, or sets) and apply a given function to each element.\n",
    "\n",
    "map(function, iterable): Applies the specified function to each item in the iterable and returns an iterator that yields the results.\n",
    "filter(function, iterable): Applies the specified function to each item in the iterable and returns an iterator that yields only the elements for which the function returns True.\n",
    "Both map() and filter() can be used in conjunction with lambda functions or regular functions to apply custom logic to each element or to filter elements based on certain criteria.\n",
    "\n",
    "List comprehensions offer a more concise and readable alternative to using map() and filter() in many cases. They allow you to achieve similar results in a more expressive and Pythonic way.\n",
    "\n",
    "Here's a comparison between using map() and filter() versus list comprehensions:\n",
    "\n",
    "Using map() and filter():\n",
    "\n",
    "python\n",
    "Copy code\n",
    "#### Using map()\n",
    "numbers = [1, 2, 3, 4, 5]\n",
    "squared = map(lambda x: x ** 2, numbers)  # Apply lambda function to square each number\n",
    "#### squared is an iterator, convert it to a list to see the result\n",
    "squared_list = list(squared)\n",
    "\n",
    "#### Using filter()\n",
    "even_numbers = filter(lambda x: x % 2 == 0, numbers)  # Filter out even numbers\n",
    "#### even_numbers is an iterator, convert it to a list to see the result\n",
    "even_numbers_list = list(even_numbers)\n",
    "Using list comprehensions:\n",
    "\n",
    "python\n",
    "Copy code\n",
    "#### Using list comprehension to achieve the same result as map()\n",
    "squared_list = [x ** 2 for x in numbers]\n",
    "\n",
    "#### Using list comprehension to achieve the same result as filter()\n",
    "even_numbers_list = [x for x in numbers if x % 2 == 0]\n",
    "In many cases, list comprehensions are preferred for their readability and clarity, but map() and filter() can still be useful in certain situations, especially when dealing with more complex transformations or filtering logic.\n",
    "\n",
    "### 15)Explain the concept of list aliasing and how it can lead to unexpected behavior. How can you avoid it?\n",
    "\n",
    "->\n",
    "List aliasing occurs when two or more variables reference the same list object in memory. This means that changes made to the list through one variable will affect all other variables that reference the same list object.\n",
    "\n",
    "Here's a simple example:\n",
    "\n",
    "python\n",
    "Copy code\n",
    "list1 = [1, 2, 3]\n",
    "list2 = list1  # list2 is now an alias for list1\n",
    "\n",
    "list1.append(4)\n",
    "print(list2)  # Output: [1, 2, 3, 4]\n",
    "In this example, list1 and list2 reference the same list object. So when an element is appended to list1, list2 also reflects the change.\n",
    "\n",
    "To avoid unintended consequences of list aliasing, you can create a copy of the list instead of assigning it directly. There are several ways to do this:\n",
    "\n",
    "Using the list() constructor:\n",
    "python\n",
    "Copy code\n",
    "list1 = [1, 2, 3]\n",
    "list2 = list(list1)\n",
    "Using list slicing:\n",
    "python\n",
    "Copy code\n",
    "list1 = [1, 2, 3]\n",
    "list2 = list1[:]\n",
    "Using the copy() method:\n",
    "python\n",
    "Copy code\n",
    "list1 = [1, 2, 3]\n",
    "list2 = list1.copy()\n",
    "By creating a copy of the list, you ensure that changes made to one list do not affect the other, thus avoiding unexpected behavior caused by list aliasing."
   ]
  },
  {
   "cell_type": "code",
   "execution_count": null,
   "id": "9d818fad",
   "metadata": {},
   "outputs": [],
   "source": []
  }
 ],
 "metadata": {
  "kernelspec": {
   "display_name": "Python 3 (ipykernel)",
   "language": "python",
   "name": "python3"
  },
  "language_info": {
   "codemirror_mode": {
    "name": "ipython",
    "version": 3
   },
   "file_extension": ".py",
   "mimetype": "text/x-python",
   "name": "python",
   "nbconvert_exporter": "python",
   "pygments_lexer": "ipython3",
   "version": "3.11.5"
  }
 },
 "nbformat": 4,
 "nbformat_minor": 5
}
